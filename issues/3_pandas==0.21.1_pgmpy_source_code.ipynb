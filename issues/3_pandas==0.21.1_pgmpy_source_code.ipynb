{
 "cells": [
  {
   "cell_type": "markdown",
   "metadata": {},
   "source": [
    "* First uninstall the pgmpy package that we installed from pip\n",
    "    * Check that it has really been deleted via `pip freeze | grep pgmpy`, it should return nothing\n",
    "* Then install pgmpy from the source code \n",
    "    * type: `python setup.py install`\n",
    "* Now it should work with pandas==0.21.1"
   ]
  },
  {
   "cell_type": "code",
   "execution_count": 1,
   "metadata": {
    "scrolled": true
   },
   "outputs": [
    {
     "name": "stdout",
     "output_type": "stream",
     "text": [
      "Looking in indexes: https://pypi.org/simple, https://quantumblack.jfrog.io/quantumblack/api/pypi/pypi-qb/simple\r\n",
      "Requirement already satisfied: pandas==0.21.1 in /Users/Xilin_Cecilia_Shi/anaconda3/lib/python3.6/site-packages (0.21.1)\r\n",
      "Requirement already satisfied: numpy>=1.9.0 in /Users/Xilin_Cecilia_Shi/anaconda3/lib/python3.6/site-packages (from pandas==0.21.1) (1.15.0)\r\n",
      "Requirement already satisfied: pytz>=2011k in /Users/Xilin_Cecilia_Shi/anaconda3/lib/python3.6/site-packages (from pandas==0.21.1) (2018.5)\r\n",
      "Requirement already satisfied: python-dateutil>=2 in /Users/Xilin_Cecilia_Shi/anaconda3/lib/python3.6/site-packages (from pandas==0.21.1) (2.7.3)\r\n",
      "Requirement already satisfied: six>=1.5 in /Users/Xilin_Cecilia_Shi/anaconda3/lib/python3.6/site-packages (from python-dateutil>=2->pandas==0.21.1) (1.11.0)\r\n"
     ]
    }
   ],
   "source": [
    "!pip install pandas==0.21.1"
   ]
  },
  {
   "cell_type": "code",
   "execution_count": 2,
   "metadata": {},
   "outputs": [
    {
     "name": "stderr",
     "output_type": "stream",
     "text": [
      "/Users/Xilin_Cecilia_Shi/anaconda3/lib/python3.6/importlib/_bootstrap.py:219: RuntimeWarning: numpy.dtype size changed, may indicate binary incompatibility. Expected 96, got 88\n",
      "  return f(*args, **kwds)\n"
     ]
    }
   ],
   "source": [
    "import numpy as np\n",
    "import pandas as pd\n",
    "from pgmpy.models import BayesianModel\n",
    "from pgmpy.estimators import BayesianEstimator\n",
    "\n",
    "np.random.seed(1)\n",
    "values = pd.DataFrame(np.random.randint(low=0, high=2, size=(1000, 5)), columns=['A', 'B', 'C', 'D', 'E'])\n",
    "train_data = values[:800]\n",
    "predict_data = values[800:]\n",
    "model = BayesianModel([('A', 'B'), ('C', 'B'), ('C', 'D'), ('B', 'E')])\n",
    "model.fit(data=train_data, estimator=BayesianEstimator, prior_type=\"BDeu\")\n"
   ]
  },
  {
   "cell_type": "code",
   "execution_count": 3,
   "metadata": {},
   "outputs": [
    {
     "name": "stdout",
     "output_type": "stream",
     "text": [
      "+------+----------+\n",
      "| A(0) | 0.517391 |\n",
      "+------+----------+\n",
      "| A(1) | 0.482609 |\n",
      "+------+----------+\n",
      "+------+---------------------+--------------------+---------------------+--------------------+\n",
      "| A    | A(0)                | A(0)               | A(1)                | A(1)               |\n",
      "+------+---------------------+--------------------+---------------------+--------------------+\n",
      "| C    | C(0)                | C(1)               | C(0)                | C(1)               |\n",
      "+------+---------------------+--------------------+---------------------+--------------------+\n",
      "| B(0) | 0.5100376411543287  | 0.5138089758342923 | 0.49745222929936306 | 0.4869960988296489 |\n",
      "+------+---------------------+--------------------+---------------------+--------------------+\n",
      "| B(1) | 0.48996235884567124 | 0.4861910241657077 | 0.5025477707006369  | 0.5130039011703511 |\n",
      "+------+---------------------+--------------------+---------------------+--------------------+\n",
      "+------+----------+\n",
      "| C(0) | 0.491304 |\n",
      "+------+----------+\n",
      "| C(1) | 0.508696 |\n",
      "+------+----------+\n",
      "+------+--------------------+--------------------+\n",
      "| C    | C(0)               | C(1)               |\n",
      "+------+--------------------+--------------------+\n",
      "| D(0) | 0.5417193426042983 | 0.4938949938949939 |\n",
      "+------+--------------------+--------------------+\n",
      "| D(1) | 0.4582806573957016 | 0.5061050061050061 |\n",
      "+------+--------------------+--------------------+\n",
      "+------+---------------------+---------------------+\n",
      "| B    | B(0)                | B(1)                |\n",
      "+------+---------------------+---------------------+\n",
      "| E(0) | 0.5197775030902348  | 0.49001248439450684 |\n",
      "+------+---------------------+---------------------+\n",
      "| E(1) | 0.48022249690976515 | 0.5099875156054932  |\n",
      "+------+---------------------+---------------------+\n"
     ]
    }
   ],
   "source": [
    "for cpd in model.get_cpds():\n",
    "    print(cpd)"
   ]
  },
  {
   "cell_type": "code",
   "execution_count": 4,
   "metadata": {},
   "outputs": [],
   "source": [
    "predict_data = predict_data.copy()\n",
    "predict_data.drop('E', axis=1, inplace=True)\n",
    "y_pred = model.predict(predict_data)"
   ]
  },
  {
   "cell_type": "code",
   "execution_count": 5,
   "metadata": {},
   "outputs": [
    {
     "data": {
      "text/html": [
       "<div>\n",
       "<style scoped>\n",
       "    .dataframe tbody tr th:only-of-type {\n",
       "        vertical-align: middle;\n",
       "    }\n",
       "\n",
       "    .dataframe tbody tr th {\n",
       "        vertical-align: top;\n",
       "    }\n",
       "\n",
       "    .dataframe thead th {\n",
       "        text-align: right;\n",
       "    }\n",
       "</style>\n",
       "<table border=\"1\" class=\"dataframe\">\n",
       "  <thead>\n",
       "    <tr style=\"text-align: right;\">\n",
       "      <th></th>\n",
       "      <th>E</th>\n",
       "    </tr>\n",
       "  </thead>\n",
       "  <tbody>\n",
       "    <tr>\n",
       "      <th>800</th>\n",
       "      <td>1</td>\n",
       "    </tr>\n",
       "    <tr>\n",
       "      <th>801</th>\n",
       "      <td>0</td>\n",
       "    </tr>\n",
       "    <tr>\n",
       "      <th>802</th>\n",
       "      <td>0</td>\n",
       "    </tr>\n",
       "    <tr>\n",
       "      <th>803</th>\n",
       "      <td>1</td>\n",
       "    </tr>\n",
       "    <tr>\n",
       "      <th>804</th>\n",
       "      <td>1</td>\n",
       "    </tr>\n",
       "  </tbody>\n",
       "</table>\n",
       "</div>"
      ],
      "text/plain": [
       "     E\n",
       "800  1\n",
       "801  0\n",
       "802  0\n",
       "803  1\n",
       "804  1"
      ]
     },
     "execution_count": 5,
     "metadata": {},
     "output_type": "execute_result"
    }
   ],
   "source": [
    "y_pred.head()"
   ]
  },
  {
   "cell_type": "code",
   "execution_count": null,
   "metadata": {},
   "outputs": [],
   "source": []
  }
 ],
 "metadata": {
  "kernelspec": {
   "display_name": "Python 3",
   "language": "python",
   "name": "python3"
  },
  "language_info": {
   "codemirror_mode": {
    "name": "ipython",
    "version": 3
   },
   "file_extension": ".py",
   "mimetype": "text/x-python",
   "name": "python",
   "nbconvert_exporter": "python",
   "pygments_lexer": "ipython3",
   "version": "3.6.5"
  }
 },
 "nbformat": 4,
 "nbformat_minor": 2
}
