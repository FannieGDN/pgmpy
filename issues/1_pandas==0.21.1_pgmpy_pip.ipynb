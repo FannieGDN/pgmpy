{
 "cells": [
  {
   "cell_type": "markdown",
   "metadata": {},
   "source": [
    "# pandas==0.21.1 and pgmpy from pip install"
   ]
  },
  {
   "cell_type": "code",
   "execution_count": 1,
   "metadata": {},
   "outputs": [
    {
     "name": "stdout",
     "output_type": "stream",
     "text": [
      "Looking in indexes: https://pypi.org/simple, https://quantumblack.jfrog.io/quantumblack/api/pypi/pypi-qb/simple\r\n",
      "Requirement already satisfied: pandas==0.21.1 in /Users/Xilin_Cecilia_Shi/anaconda3/lib/python3.6/site-packages (0.21.1)\r\n",
      "Requirement already satisfied: numpy>=1.9.0 in /Users/Xilin_Cecilia_Shi/anaconda3/lib/python3.6/site-packages (from pandas==0.21.1) (1.15.0)\r\n",
      "Requirement already satisfied: pytz>=2011k in /Users/Xilin_Cecilia_Shi/anaconda3/lib/python3.6/site-packages (from pandas==0.21.1) (2018.5)\r\n",
      "Requirement already satisfied: python-dateutil>=2 in /Users/Xilin_Cecilia_Shi/anaconda3/lib/python3.6/site-packages (from pandas==0.21.1) (2.7.3)\r\n",
      "Requirement already satisfied: six>=1.5 in /Users/Xilin_Cecilia_Shi/anaconda3/lib/python3.6/site-packages (from python-dateutil>=2->pandas==0.21.1) (1.11.0)\r\n"
     ]
    }
   ],
   "source": [
    "!pip install pandas==0.21.1"
   ]
  },
  {
   "cell_type": "code",
   "execution_count": 2,
   "metadata": {},
   "outputs": [
    {
     "name": "stdout",
     "output_type": "stream",
     "text": [
      "pandas==0.21.1\r\n"
     ]
    }
   ],
   "source": [
    "!pip freeze | grep pandas"
   ]
  },
  {
   "cell_type": "code",
   "execution_count": 3,
   "metadata": {
    "scrolled": true
   },
   "outputs": [
    {
     "name": "stdout",
     "output_type": "stream",
     "text": [
      "Looking in indexes: https://pypi.org/simple, https://quantumblack.jfrog.io/quantumblack/api/pypi/pypi-qb/simple\n",
      "Collecting pgmpy\n",
      "Requirement already satisfied: scipy>=0.12.1 in /Users/Xilin_Cecilia_Shi/anaconda3/lib/python3.6/site-packages (from pgmpy) (0.18.1)\n",
      "Requirement already satisfied: numpy>=1.7.0 in /Users/Xilin_Cecilia_Shi/anaconda3/lib/python3.6/site-packages (from pgmpy) (1.15.0)\n",
      "Requirement already satisfied: networkx>=1.8.1 in /Users/Xilin_Cecilia_Shi/anaconda3/lib/python3.6/site-packages (from pgmpy) (1.11)\n",
      "Requirement already satisfied: decorator>=3.4.0 in /Users/Xilin_Cecilia_Shi/anaconda3/lib/python3.6/site-packages (from networkx>=1.8.1->pgmpy) (4.3.0)\n",
      "\u001b[31mqb-bns 0.1.5 has requirement pandas>=0.22.0, but you'll have pandas 0.21.1 which is incompatible.\u001b[0m\n",
      "Installing collected packages: pgmpy\n",
      "Successfully installed pgmpy-0.1.6\n"
     ]
    }
   ],
   "source": [
    "!pip install pgmpy"
   ]
  },
  {
   "cell_type": "code",
   "execution_count": 4,
   "metadata": {},
   "outputs": [
    {
     "name": "stderr",
     "output_type": "stream",
     "text": [
      "/Users/Xilin_Cecilia_Shi/anaconda3/lib/python3.6/importlib/_bootstrap.py:219: RuntimeWarning: numpy.dtype size changed, may indicate binary incompatibility. Expected 96, got 88\n",
      "  return f(*args, **kwds)\n"
     ]
    }
   ],
   "source": [
    "import numpy as np\n",
    "import pandas as pd\n",
    "from pgmpy.models import BayesianModel\n",
    "from pgmpy.estimators import BayesianEstimator\n",
    "\n",
    "np.random.seed(1)\n",
    "values = pd.DataFrame(np.random.randint(low=0, high=2, size=(1000, 5)), columns=['A', 'B', 'C', 'D', 'E'])\n",
    "train_data = values[:800]\n",
    "predict_data = values[800:]\n",
    "model = BayesianModel([('A', 'B'), ('C', 'B'), ('C', 'D'), ('B', 'E')])\n",
    "model.fit(data=train_data, estimator=BayesianEstimator, prior_type=\"BDeu\")\n"
   ]
  },
  {
   "cell_type": "markdown",
   "metadata": {},
   "source": [
    "Error in estimating cpd for the last two (all 0.5), hence resulting in predictions only from one class"
   ]
  },
  {
   "cell_type": "code",
   "execution_count": 5,
   "metadata": {
    "scrolled": true
   },
   "outputs": [
    {
     "name": "stdout",
     "output_type": "stream",
     "text": [
      "╒══════╤══════════╕\n",
      "│ A(0) │ 0.517391 │\n",
      "├──────┼──────────┤\n",
      "│ A(1) │ 0.482609 │\n",
      "╘══════╧══════════╛\n",
      "╒══════╤═════════════════════╤════════════════════╤═════════════════════╤════════════════════╕\n",
      "│ A    │ A(0)                │ A(0)               │ A(1)                │ A(1)               │\n",
      "├──────┼─────────────────────┼────────────────────┼─────────────────────┼────────────────────┤\n",
      "│ C    │ C(0)                │ C(1)               │ C(0)                │ C(1)               │\n",
      "├──────┼─────────────────────┼────────────────────┼─────────────────────┼────────────────────┤\n",
      "│ B(0) │ 0.5100376411543287  │ 0.5138089758342923 │ 0.49745222929936306 │ 0.4869960988296489 │\n",
      "├──────┼─────────────────────┼────────────────────┼─────────────────────┼────────────────────┤\n",
      "│ B(1) │ 0.48996235884567124 │ 0.4861910241657077 │ 0.5025477707006369  │ 0.5130039011703511 │\n",
      "╘══════╧═════════════════════╧════════════════════╧═════════════════════╧════════════════════╛\n",
      "╒══════╤══════════╕\n",
      "│ C(0) │ 0.491304 │\n",
      "├──────┼──────────┤\n",
      "│ C(1) │ 0.508696 │\n",
      "╘══════╧══════════╛\n",
      "╒══════╤══════╤══════╕\n",
      "│ C    │ C(0) │ C(1) │\n",
      "├──────┼──────┼──────┤\n",
      "│ D(0) │ 0.5  │ 0.5  │\n",
      "├──────┼──────┼──────┤\n",
      "│ D(1) │ 0.5  │ 0.5  │\n",
      "╘══════╧══════╧══════╛\n",
      "╒══════╤══════╤══════╕\n",
      "│ B    │ B(0) │ B(1) │\n",
      "├──────┼──────┼──────┤\n",
      "│ E(0) │ 0.5  │ 0.5  │\n",
      "├──────┼──────┼──────┤\n",
      "│ E(1) │ 0.5  │ 0.5  │\n",
      "╘══════╧══════╧══════╛\n"
     ]
    }
   ],
   "source": [
    "for cpd in model.get_cpds():\n",
    "    print(cpd)"
   ]
  },
  {
   "cell_type": "code",
   "execution_count": 6,
   "metadata": {},
   "outputs": [],
   "source": [
    "predict_data = predict_data.copy()\n",
    "predict_data.drop('E', axis=1, inplace=True)\n",
    "y_pred = model.predict(predict_data)"
   ]
  },
  {
   "cell_type": "code",
   "execution_count": 7,
   "metadata": {
    "scrolled": true
   },
   "outputs": [
    {
     "data": {
      "text/html": [
       "<div>\n",
       "<style scoped>\n",
       "    .dataframe tbody tr th:only-of-type {\n",
       "        vertical-align: middle;\n",
       "    }\n",
       "\n",
       "    .dataframe tbody tr th {\n",
       "        vertical-align: top;\n",
       "    }\n",
       "\n",
       "    .dataframe thead th {\n",
       "        text-align: right;\n",
       "    }\n",
       "</style>\n",
       "<table border=\"1\" class=\"dataframe\">\n",
       "  <thead>\n",
       "    <tr style=\"text-align: right;\">\n",
       "      <th></th>\n",
       "      <th>E</th>\n",
       "    </tr>\n",
       "  </thead>\n",
       "  <tbody>\n",
       "    <tr>\n",
       "      <th>800</th>\n",
       "      <td>0</td>\n",
       "    </tr>\n",
       "    <tr>\n",
       "      <th>801</th>\n",
       "      <td>0</td>\n",
       "    </tr>\n",
       "    <tr>\n",
       "      <th>802</th>\n",
       "      <td>0</td>\n",
       "    </tr>\n",
       "    <tr>\n",
       "      <th>803</th>\n",
       "      <td>0</td>\n",
       "    </tr>\n",
       "    <tr>\n",
       "      <th>804</th>\n",
       "      <td>0</td>\n",
       "    </tr>\n",
       "  </tbody>\n",
       "</table>\n",
       "</div>"
      ],
      "text/plain": [
       "     E\n",
       "800  0\n",
       "801  0\n",
       "802  0\n",
       "803  0\n",
       "804  0"
      ]
     },
     "execution_count": 7,
     "metadata": {},
     "output_type": "execute_result"
    }
   ],
   "source": [
    "y_pred.head()"
   ]
  },
  {
   "cell_type": "markdown",
   "metadata": {},
   "source": [
    "This seems to due to a miscalculation in state counts. When the variable only has a single parent, the state counts return all zeros."
   ]
  },
  {
   "cell_type": "code",
   "execution_count": 8,
   "metadata": {},
   "outputs": [],
   "source": [
    "from pgmpy.estimators import ParameterEstimator\n",
    "estimator = ParameterEstimator(model, train_data)"
   ]
  },
  {
   "cell_type": "code",
   "execution_count": 9,
   "metadata": {
    "scrolled": true
   },
   "outputs": [
    {
     "data": {
      "text/html": [
       "<div>\n",
       "<style scoped>\n",
       "    .dataframe tbody tr th:only-of-type {\n",
       "        vertical-align: middle;\n",
       "    }\n",
       "\n",
       "    .dataframe tbody tr th {\n",
       "        vertical-align: top;\n",
       "    }\n",
       "\n",
       "    .dataframe thead tr th {\n",
       "        text-align: left;\n",
       "    }\n",
       "\n",
       "    .dataframe thead tr:last-of-type th {\n",
       "        text-align: right;\n",
       "    }\n",
       "</style>\n",
       "<table border=\"1\" class=\"dataframe\">\n",
       "  <thead>\n",
       "    <tr>\n",
       "      <th>B</th>\n",
       "      <th>0</th>\n",
       "      <th>1</th>\n",
       "    </tr>\n",
       "    <tr>\n",
       "      <th>E</th>\n",
       "      <th></th>\n",
       "      <th></th>\n",
       "    </tr>\n",
       "  </thead>\n",
       "  <tbody>\n",
       "    <tr>\n",
       "      <th>0</th>\n",
       "      <td>0.0</td>\n",
       "      <td>0.0</td>\n",
       "    </tr>\n",
       "    <tr>\n",
       "      <th>1</th>\n",
       "      <td>0.0</td>\n",
       "      <td>0.0</td>\n",
       "    </tr>\n",
       "  </tbody>\n",
       "</table>\n",
       "</div>"
      ],
      "text/plain": [
       "B    0    1\n",
       "E          \n",
       "0  0.0  0.0\n",
       "1  0.0  0.0"
      ]
     },
     "execution_count": 9,
     "metadata": {},
     "output_type": "execute_result"
    }
   ],
   "source": [
    "# Only returns 0 when the variable only has one parent\n",
    "estimator.state_counts('E')"
   ]
  },
  {
   "cell_type": "code",
   "execution_count": 10,
   "metadata": {},
   "outputs": [
    {
     "data": {
      "text/html": [
       "<div>\n",
       "<style scoped>\n",
       "    .dataframe tbody tr th:only-of-type {\n",
       "        vertical-align: middle;\n",
       "    }\n",
       "\n",
       "    .dataframe tbody tr th {\n",
       "        vertical-align: top;\n",
       "    }\n",
       "\n",
       "    .dataframe thead tr th {\n",
       "        text-align: left;\n",
       "    }\n",
       "\n",
       "    .dataframe thead tr:last-of-type th {\n",
       "        text-align: right;\n",
       "    }\n",
       "</style>\n",
       "<table border=\"1\" class=\"dataframe\">\n",
       "  <thead>\n",
       "    <tr>\n",
       "      <th>A</th>\n",
       "      <th colspan=\"2\" halign=\"left\">0</th>\n",
       "      <th colspan=\"2\" halign=\"left\">1</th>\n",
       "    </tr>\n",
       "    <tr>\n",
       "      <th>C</th>\n",
       "      <th>0</th>\n",
       "      <th>1</th>\n",
       "      <th>0</th>\n",
       "      <th>1</th>\n",
       "    </tr>\n",
       "    <tr>\n",
       "      <th>B</th>\n",
       "      <th></th>\n",
       "      <th></th>\n",
       "      <th></th>\n",
       "      <th></th>\n",
       "    </tr>\n",
       "  </thead>\n",
       "  <tbody>\n",
       "    <tr>\n",
       "      <th>0</th>\n",
       "      <td>101</td>\n",
       "      <td>111</td>\n",
       "      <td>97</td>\n",
       "      <td>93</td>\n",
       "    </tr>\n",
       "    <tr>\n",
       "      <th>1</th>\n",
       "      <td>97</td>\n",
       "      <td>105</td>\n",
       "      <td>98</td>\n",
       "      <td>98</td>\n",
       "    </tr>\n",
       "  </tbody>\n",
       "</table>\n",
       "</div>"
      ],
      "text/plain": [
       "A    0        1    \n",
       "C    0    1   0   1\n",
       "B                  \n",
       "0  101  111  97  93\n",
       "1   97  105  98  98"
      ]
     },
     "execution_count": 10,
     "metadata": {},
     "output_type": "execute_result"
    }
   ],
   "source": [
    "# Correctly returns the state counts when the variable has multiple parents\n",
    "estimator.state_counts('B')"
   ]
  },
  {
   "cell_type": "markdown",
   "metadata": {},
   "source": [
    "The reason might be due to `pd.MultiIndex.from_product`. In pandas 0.21.1, even when there's a single parent, `pd.MultiIndex.from_product` still generates a MultiIndex object. However, in pandas 0.19.2, it generates Int64Index in this case (see pandas==0.19.2_pgmpy_pip.ipynb) and the state_counts table is correct.\n",
    "\n",
    "Here's what it does in `pgmpy/estimators/base.py`:\n",
    "\n",
    "`parents_states = [self.state_names[parent] for parent in parents]\n",
    "state_count_data = data.groupby([variable] + parents).size().unstack(parents)\n",
    "row_index = self.state_names[variable]\n",
    "column_index = pd.MultiIndex.from_product(parents_states, names=parents)\n",
    "state_counts = state_count_data.reindex(index=row_index, columns=column_index).fillna(0)`"
   ]
  },
  {
   "cell_type": "code",
   "execution_count": 11,
   "metadata": {},
   "outputs": [
    {
     "data": {
      "text/html": [
       "<div>\n",
       "<style scoped>\n",
       "    .dataframe tbody tr th:only-of-type {\n",
       "        vertical-align: middle;\n",
       "    }\n",
       "\n",
       "    .dataframe tbody tr th {\n",
       "        vertical-align: top;\n",
       "    }\n",
       "\n",
       "    .dataframe thead tr th {\n",
       "        text-align: left;\n",
       "    }\n",
       "\n",
       "    .dataframe thead tr:last-of-type th {\n",
       "        text-align: right;\n",
       "    }\n",
       "</style>\n",
       "<table border=\"1\" class=\"dataframe\">\n",
       "  <thead>\n",
       "    <tr>\n",
       "      <th>B</th>\n",
       "      <th>0</th>\n",
       "      <th>1</th>\n",
       "    </tr>\n",
       "    <tr>\n",
       "      <th>E</th>\n",
       "      <th></th>\n",
       "      <th></th>\n",
       "    </tr>\n",
       "  </thead>\n",
       "  <tbody>\n",
       "    <tr>\n",
       "      <th>0</th>\n",
       "      <td>0.0</td>\n",
       "      <td>0.0</td>\n",
       "    </tr>\n",
       "    <tr>\n",
       "      <th>1</th>\n",
       "      <td>0.0</td>\n",
       "      <td>0.0</td>\n",
       "    </tr>\n",
       "  </tbody>\n",
       "</table>\n",
       "</div>"
      ],
      "text/plain": [
       "B    0    1\n",
       "E          \n",
       "0  0.0  0.0\n",
       "1  0.0  0.0"
      ]
     },
     "execution_count": 11,
     "metadata": {},
     "output_type": "execute_result"
    }
   ],
   "source": [
    "# when the variable only has a single parent\n",
    "parents = ['B']\n",
    "variable = 'E'\n",
    "\n",
    "row_index = [0, 1]\n",
    "column_index = pd.MultiIndex.from_product([[0, 1]], names=parents)\n",
    "state_count_data = train_data.groupby([variable] + parents).size().unstack(parents)\n",
    "state_count_data.reindex(index=row_index, columns=column_index).fillna(0)"
   ]
  },
  {
   "cell_type": "code",
   "execution_count": 12,
   "metadata": {},
   "outputs": [
    {
     "data": {
      "text/plain": [
       "MultiIndex(levels=[[0, 1]],\n",
       "           labels=[[0, 1]],\n",
       "           names=['B'])"
      ]
     },
     "execution_count": 12,
     "metadata": {},
     "output_type": "execute_result"
    }
   ],
   "source": [
    "column_index"
   ]
  },
  {
   "cell_type": "code",
   "execution_count": 13,
   "metadata": {},
   "outputs": [
    {
     "data": {
      "text/html": [
       "<div>\n",
       "<style scoped>\n",
       "    .dataframe tbody tr th:only-of-type {\n",
       "        vertical-align: middle;\n",
       "    }\n",
       "\n",
       "    .dataframe tbody tr th {\n",
       "        vertical-align: top;\n",
       "    }\n",
       "\n",
       "    .dataframe thead tr th {\n",
       "        text-align: left;\n",
       "    }\n",
       "\n",
       "    .dataframe thead tr:last-of-type th {\n",
       "        text-align: right;\n",
       "    }\n",
       "</style>\n",
       "<table border=\"1\" class=\"dataframe\">\n",
       "  <thead>\n",
       "    <tr>\n",
       "      <th>A</th>\n",
       "      <th colspan=\"2\" halign=\"left\">0</th>\n",
       "      <th colspan=\"2\" halign=\"left\">1</th>\n",
       "    </tr>\n",
       "    <tr>\n",
       "      <th>C</th>\n",
       "      <th>0</th>\n",
       "      <th>1</th>\n",
       "      <th>0</th>\n",
       "      <th>1</th>\n",
       "    </tr>\n",
       "    <tr>\n",
       "      <th>B</th>\n",
       "      <th></th>\n",
       "      <th></th>\n",
       "      <th></th>\n",
       "      <th></th>\n",
       "    </tr>\n",
       "  </thead>\n",
       "  <tbody>\n",
       "    <tr>\n",
       "      <th>0</th>\n",
       "      <td>101</td>\n",
       "      <td>111</td>\n",
       "      <td>97</td>\n",
       "      <td>93</td>\n",
       "    </tr>\n",
       "    <tr>\n",
       "      <th>1</th>\n",
       "      <td>97</td>\n",
       "      <td>105</td>\n",
       "      <td>98</td>\n",
       "      <td>98</td>\n",
       "    </tr>\n",
       "  </tbody>\n",
       "</table>\n",
       "</div>"
      ],
      "text/plain": [
       "A    0        1    \n",
       "C    0    1   0   1\n",
       "B                  \n",
       "0  101  111  97  93\n",
       "1   97  105  98  98"
      ]
     },
     "execution_count": 13,
     "metadata": {},
     "output_type": "execute_result"
    }
   ],
   "source": [
    "# when the variable has multiple parents\n",
    "parents = ['A', 'C']\n",
    "variable = 'B'\n",
    "\n",
    "row_index = [0, 1]\n",
    "column_index = pd.MultiIndex.from_product([[0, 1], [0, 1]], names=parents)\n",
    "state_count_data = train_data.groupby([variable] + parents).size().unstack(parents)\n",
    "state_count_data.reindex(index=row_index, columns=column_index).fillna(0)"
   ]
  },
  {
   "cell_type": "code",
   "execution_count": 14,
   "metadata": {},
   "outputs": [
    {
     "data": {
      "text/plain": [
       "MultiIndex(levels=[[0, 1], [0, 1]],\n",
       "           labels=[[0, 0, 1, 1], [0, 1, 0, 1]],\n",
       "           names=['A', 'C'])"
      ]
     },
     "execution_count": 14,
     "metadata": {},
     "output_type": "execute_result"
    }
   ],
   "source": [
    "column_index"
   ]
  },
  {
   "cell_type": "code",
   "execution_count": null,
   "metadata": {},
   "outputs": [],
   "source": []
  },
  {
   "cell_type": "code",
   "execution_count": null,
   "metadata": {},
   "outputs": [],
   "source": []
  }
 ],
 "metadata": {
  "kernelspec": {
   "display_name": "Python 3",
   "language": "python",
   "name": "python3"
  },
  "language_info": {
   "codemirror_mode": {
    "name": "ipython",
    "version": 3
   },
   "file_extension": ".py",
   "mimetype": "text/x-python",
   "name": "python",
   "nbconvert_exporter": "python",
   "pygments_lexer": "ipython3",
   "version": "3.6.5"
  }
 },
 "nbformat": 4,
 "nbformat_minor": 2
}
